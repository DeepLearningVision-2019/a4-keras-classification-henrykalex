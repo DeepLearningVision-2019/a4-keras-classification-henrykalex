{
  "nbformat": 4,
  "nbformat_minor": 0,
  "metadata": {
    "colab": {
      "name": "Keras_assignment.ipynb",
      "version": "0.3.2",
      "provenance": [],
      "collapsed_sections": []
    },
    "kernelspec": {
      "display_name": "Python 3",
      "language": "python",
      "name": "python3"
    }
  },
  "cells": [
    {
      "metadata": {
        "id": "BDwIZVg1AOav",
        "colab_type": "text"
      },
      "cell_type": "markdown",
      "source": [
        "# Classify different data sets"
      ]
    },
    {
      "metadata": {
        "id": "Y_aAIxrMAOa0",
        "colab_type": "text"
      },
      "cell_type": "markdown",
      "source": [
        "### Basic includes"
      ]
    },
    {
      "metadata": {
        "id": "MXJnMVqrAOa4",
        "colab_type": "code",
        "colab": {
          "base_uri": "https://localhost:8080/",
          "height": 34
        },
        "outputId": "e2878f0b-6039-4b63-dfbc-4f656bfe951d"
      },
      "cell_type": "code",
      "source": [
        "# Using pandas to load the csv file\n",
        "import pandas as pd\n",
        "\n",
        "import numpy as np\n",
        "import matplotlib.pyplot as plt\n",
        "\n",
        "from keras import models \n",
        "from keras import layers \n",
        "from keras import callbacks\n",
        "from keras.utils import to_categorical\n",
        "\n",
        "# reuters and fashin mnist data set from keras\n",
        "from keras.datasets import reuters\n",
        "from keras.datasets import fashion_mnist\n",
        "\n",
        "# needed to preprocess text\n",
        "from keras.preprocessing.text import Tokenizer\n",
        "\n",
        "import math"
      ],
      "execution_count": 2,
      "outputs": [
        {
          "output_type": "stream",
          "text": [
            "Using TensorFlow backend.\n"
          ],
          "name": "stderr"
        }
      ]
    },
    {
      "metadata": {
        "id": "Lp-8Sny2AObH",
        "colab_type": "text"
      },
      "cell_type": "markdown",
      "source": [
        "### Classify the Fashion Mnist\n",
        "\n",
        "---"
      ]
    },
    {
      "metadata": {
        "id": "QCVkSDZ6AObK",
        "colab_type": "code",
        "outputId": "53df41a1-656b-4abc-b930-8a287d9f3c95",
        "colab": {
          "base_uri": "https://localhost:8080/",
          "height": 569
        }
      },
      "cell_type": "code",
      "source": [
        "(fashion_train_data, fashion_train_labels), (fashion_test_data, fashion_test_labels) = fashion_mnist.load_data()\n",
        "\n",
        "print(fashion_train_data.shape)\n",
        "print(fashion_test_data.shape)\n",
        "\n",
        "test_index = 10\n",
        "\n",
        "plt.title(\"Label: \" + str(fashion_train_labels[test_index]))\n",
        "plt.imshow(fashion_train_data[test_index], cmap=\"gray\")"
      ],
      "execution_count": 0,
      "outputs": [
        {
          "output_type": "stream",
          "text": [
            "Downloading data from http://fashion-mnist.s3-website.eu-central-1.amazonaws.com/train-labels-idx1-ubyte.gz\n",
            "32768/29515 [=================================] - 0s 3us/step\n",
            "Downloading data from http://fashion-mnist.s3-website.eu-central-1.amazonaws.com/train-images-idx3-ubyte.gz\n",
            "26427392/26421880 [==============================] - 2s 0us/step\n",
            "Downloading data from http://fashion-mnist.s3-website.eu-central-1.amazonaws.com/t10k-labels-idx1-ubyte.gz\n",
            "8192/5148 [===============================================] - 0s 0us/step\n",
            "Downloading data from http://fashion-mnist.s3-website.eu-central-1.amazonaws.com/t10k-images-idx3-ubyte.gz\n",
            "4423680/4422102 [==============================] - 1s 0us/step\n",
            "(60000, 28, 28)\n",
            "(10000, 28, 28)\n"
          ],
          "name": "stdout"
        },
        {
          "output_type": "execute_result",
          "data": {
            "text/plain": [
              "<matplotlib.image.AxesImage at 0x7f54243e7940>"
            ]
          },
          "metadata": {
            "tags": []
          },
          "execution_count": 2
        },
        {
          "output_type": "display_data",
          "data": {
            "image/png": "[encoded data removed]",
            "text/plain": [
              "<Figure size 576x396 with 1 Axes>"
            ]
          },
          "metadata": {
            "tags": []
          }
        }
      ]
    },
    {
      "metadata": {
        "id": "Jo57yohFAObW",
        "colab_type": "code",
        "colab": {}
      },
      "cell_type": "code",
      "source": [
        ""
      ],
      "execution_count": 0,
      "outputs": []
    },
    {
      "metadata": {
        "id": "i9wZ6HCgAObe",
        "colab_type": "text"
      },
      "cell_type": "markdown",
      "source": [
        "#### TO DO: Preprocess the data\n",
        "\n",
        "1. Normalize the input data set\n",
        "2. Perform one hot encoding\n",
        "3. Create a train, test, and validation set"
      ]
    },
    {
      "metadata": {
        "id": "GPxmdcWwAObg",
        "colab_type": "code",
        "colab": {}
      },
      "cell_type": "code",
      "source": [
        "# 1.- Normalize the input data set\n",
        "# flatten arrays\n",
        "fashion_train_data = fashion_train_data.reshape((60000, 28 * 28))\n",
        "# turn values from 0-255 to 0-1\n",
        "fashion_train_data = fashion_train_data.astype('float32') / 255\n",
        "\n",
        "fashion_test_data = fashion_test_data.reshape((10000, 28 * 28)) \n",
        "fashion_test_data = fashion_test_data.astype('float32') / 255\n",
        "\n",
        "# 2.- Perform one hot encoding\n",
        "fashion_train_labels = to_categorical(fashion_train_labels) \n",
        "fashion_test_labels = to_categorical(fashion_test_labels)\n",
        "\n",
        "validation_set_labels = fashion_train_labels[50000:]\n",
        "validation_set = fashion_train_data[50000:]\n",
        "\n",
        "training_set_labels = fashion_train_labels[:50000] # y\n",
        "training_set = fashion_train_data[:50000] # X"
      ],
      "execution_count": 0,
      "outputs": []
    },
    {
      "metadata": {
        "id": "6u-iqqX0AObm",
        "colab_type": "code",
        "outputId": "34218049-ca67-463e-f191-691d07a3d1b8",
        "colab": {
          "base_uri": "https://localhost:8080/",
          "height": 51
        }
      },
      "cell_type": "code",
      "source": [
        "print(\"training_setshape: \", training_set.shape)\n",
        "print(\"training_set_labels: \", training_set_labels.shape)"
      ],
      "execution_count": 0,
      "outputs": [
        {
          "output_type": "stream",
          "text": [
            "training_setshape:  (50000, 784)\n",
            "training_set_labels:  (50000, 10)\n"
          ],
          "name": "stdout"
        }
      ]
    },
    {
      "metadata": {
        "id": "a88dj07nAObt",
        "colab_type": "text"
      },
      "cell_type": "markdown",
      "source": [
        "#### TO DO: Define and train a network, then plot the accuracy of the training, validation, and testing\n",
        "\n",
        "1. Use a validation set\n",
        "2. Propose and train a network\n",
        "3. Print the history of the training\n",
        "4. Evaluate with a test set"
      ]
    },
    {
      "metadata": {
        "id": "VIUiyqhXAObu",
        "colab_type": "code",
        "outputId": "8fd28a54-4345-48c7-eece-98fa531ddc0f",
        "colab": {
          "base_uri": "https://localhost:8080/",
          "height": 1280
        }
      },
      "cell_type": "code",
      "source": [
        "# 1.- Use a validation set\n",
        "# 2.- Propose and train a network\n",
        "\n",
        "# the network as a sequence of layers\n",
        "network = models.Sequential()\n",
        "\n",
        "\n",
        "#network.add(layers.Dense(128, activation='relu', input_shape=(28 * 28,)))\n",
        "network.add(layers.Dense(1024, activation='relu', input_shape=(28 * 28,)))\n",
        "# Added dropout between the input and first hidden layer\n",
        "network.add(layers.Dropout(0.3))\n",
        "#network.add(layers.Dense(64, activation='relu'))\n",
        "network.add(layers.Dense(256, activation='relu'))\n",
        "# Added dropout between the first hidden layer and the second one\n",
        "#network.add(layers.Dropout(0.3))\n",
        "\n",
        "network.add(layers.Dense(128, activation='relu'))\n",
        "network.add(layers.Dropout(0.3))\n",
        "\n",
        "network.add(layers.Dense(10, activation='softmax'))\n",
        "network.summary()\n",
        "\n",
        "\n",
        "# included the early stopping which monitors the validation loss\n",
        "early_stop = callbacks.EarlyStopping(monitor='val_loss', patience=5)\n",
        "\n",
        "\n",
        "network.compile(optimizer='adam', loss='categorical_crossentropy', metrics=['accuracy'])\n",
        "\n",
        "# 3.- Print the history of the training\n",
        "history = network.fit(training_set, training_set_labels,\n",
        "          #batch_size=512,\n",
        "          batch_size=1024,\n",
        "          epochs=10,\n",
        "          validation_data = (validation_set,validation_set_labels),\n",
        "          callbacks=[early_stop],\n",
        "          verbose=2)\n",
        "\n",
        "history_dict = history.history\n",
        "print(history_dict.keys())\n",
        "\n",
        "acc = history_dict['acc']\n",
        "val_acc = history_dict['val_acc']\n",
        "loss = history_dict['loss']\n",
        "val_loss = history_dict['val_loss']\n",
        "\n",
        "epochs = range(1, len(acc) + 1)\n",
        "\n",
        "#Plot of the validation and training loss\n",
        "\n",
        "# \"bo\" is for \"blue dot\"\n",
        "plt.plot(epochs, loss, 'bo', label='Training loss')\n",
        "# b is for \"solid blue line\"\n",
        "plt.plot(epochs, val_loss, 'b', label='Validation loss')\n",
        "plt.title('Training and validation loss')\n",
        "plt.xlabel('Epochs')\n",
        "plt.ylabel('Loss')\n",
        "plt.legend()\n",
        "\n",
        "plt.show()\n",
        "# 4.- Evaluate with a test set\n",
        "results = network.evaluate(fashion_test_data, fashion_test_labels)\n",
        "\n",
        "print(results)"
      ],
      "execution_count": 0,
      "outputs": [
        {
          "output_type": "stream",
          "text": [
            "WARNING:tensorflow:From /usr/local/lib/python3.6/dist-packages/tensorflow/python/framework/op_def_library.py:263: colocate_with (from tensorflow.python.framework.ops) is deprecated and will be removed in a future version.\n",
            "Instructions for updating:\n",
            "Colocations handled automatically by placer.\n",
            "WARNING:tensorflow:From /usr/local/lib/python3.6/dist-packages/keras/backend/tensorflow_backend.py:3445: calling dropout (from tensorflow.python.ops.nn_ops) with keep_prob is deprecated and will be removed in a future version.\n",
            "Instructions for updating:\n",
            "Please use `rate` instead of `keep_prob`. Rate should be set to `rate = 1 - keep_prob`.\n",
            "_________________________________________________________________\n",
            "Layer (type)                 Output Shape              Param #   \n",
            "=================================================================\n",
            "dense_1 (Dense)              (None, 1024)              803840    \n",
            "_________________________________________________________________\n",
            "dropout_1 (Dropout)          (None, 1024)              0         \n",
            "_________________________________________________________________\n",
            "dense_2 (Dense)              (None, 256)               262400    \n",
            "_________________________________________________________________\n",
            "dense_3 (Dense)              (None, 128)               32896     \n",
            "_________________________________________________________________\n",
            "dropout_2 (Dropout)          (None, 128)               0         \n",
            "_________________________________________________________________\n",
            "dense_4 (Dense)              (None, 10)                1290      \n",
            "=================================================================\n",
            "Total params: 1,100,426\n",
            "Trainable params: 1,100,426\n",
            "Non-trainable params: 0\n",
            "_________________________________________________________________\n",
            "WARNING:tensorflow:From /usr/local/lib/python3.6/dist-packages/tensorflow/python/ops/math_ops.py:3066: to_int32 (from tensorflow.python.ops.math_ops) is deprecated and will be removed in a future version.\n",
            "Instructions for updating:\n",
            "Use tf.cast instead.\n",
            "Train on 50000 samples, validate on 10000 samples\n",
            "Epoch 1/10\n",
            " - 7s - loss: 0.8106 - acc: 0.7163 - val_loss: 0.4639 - val_acc: 0.8376\n",
            "Epoch 2/10\n",
            " - 6s - loss: 0.4661 - acc: 0.8369 - val_loss: 0.4013 - val_acc: 0.8547\n",
            "Epoch 3/10\n",
            " - 6s - loss: 0.4037 - acc: 0.8573 - val_loss: 0.3785 - val_acc: 0.8671\n",
            "Epoch 4/10\n",
            " - 6s - loss: 0.3759 - acc: 0.8658 - val_loss: 0.3580 - val_acc: 0.8737\n",
            "Epoch 5/10\n",
            " - 6s - loss: 0.3553 - acc: 0.8717 - val_loss: 0.3406 - val_acc: 0.8782\n",
            "Epoch 6/10\n",
            " - 6s - loss: 0.3305 - acc: 0.8800 - val_loss: 0.3398 - val_acc: 0.8765\n",
            "Epoch 7/10\n",
            " - 6s - loss: 0.3155 - acc: 0.8843 - val_loss: 0.3211 - val_acc: 0.8843\n",
            "Epoch 8/10\n",
            " - 6s - loss: 0.3106 - acc: 0.8868 - val_loss: 0.3163 - val_acc: 0.8861\n",
            "Epoch 9/10\n",
            " - 6s - loss: 0.2973 - acc: 0.8913 - val_loss: 0.3073 - val_acc: 0.8874\n",
            "Epoch 10/10\n",
            " - 6s - loss: 0.2840 - acc: 0.8954 - val_loss: 0.3202 - val_acc: 0.8843\n",
            "dict_keys(['val_loss', 'val_acc', 'loss', 'acc'])\n"
          ],
          "name": "stdout"
        },
        {
          "output_type": "display_data",
          "data": {
            "image/png": "[encoded data removed]",
            "text/plain": [
              "<Figure size 576x396 with 1 Axes>"
            ]
          },
          "metadata": {
            "tags": []
          }
        },
        {
          "output_type": "stream",
          "text": [
            "10000/10000 [==============================] - 1s 95us/step\n",
            "[0.34172913324832915, 0.8777]\n"
          ],
          "name": "stdout"
        }
      ]
    },
    {
      "metadata": {
        "id": "GAqQcCkJAOby",
        "colab_type": "text"
      },
      "cell_type": "markdown",
      "source": [
        "## Classifying newswires\n",
        "\n",
        "---\n",
        "\n",
        "Build a network to classify Reuters newswires into 46 different mutually-exclusive topics."
      ]
    },
    {
      "metadata": {
        "id": "58AsScFXAOb0",
        "colab_type": "text"
      },
      "cell_type": "markdown",
      "source": [
        "### Load and review the data"
      ]
    },
    {
      "metadata": {
        "id": "wE1TSJFLAOb1",
        "colab_type": "code",
        "outputId": "7c2eb6a3-1589-40b6-9b83-3f386e7e27db",
        "colab": {
          "base_uri": "https://localhost:8080/",
          "height": 196
        }
      },
      "cell_type": "code",
      "source": [
        "(reuters_train_data, reuters_train_labels), (reuters_test_data, reuters_test_labels) = reuters.load_data(num_words=8982)\n",
        "\n",
        "print(reuters_train_data.shape)\n",
        "print(reuters_train_labels.shape)\n",
        "print(reuters_train_data[0])\n",
        "print(reuters_train_labels[0])\n",
        "\n",
        "print(set(reuters_train_labels))"
      ],
      "execution_count": 0,
      "outputs": [
        {
          "output_type": "stream",
          "text": [
            "Downloading data from https://s3.amazonaws.com/text-datasets/reuters.npz\n",
            "2113536/2110848 [==============================] - 0s 0us/step\n",
            "(8982,)\n",
            "(8982,)\n",
            "[1, 2, 2, 8, 43, 10, 447, 5, 25, 207, 270, 5, 3095, 111, 16, 369, 186, 90, 67, 7, 89, 5, 19, 102, 6, 19, 124, 15, 90, 67, 84, 22, 482, 26, 7, 48, 4, 49, 8, 864, 39, 209, 154, 6, 151, 6, 83, 11, 15, 22, 155, 11, 15, 7, 48, 9, 4579, 1005, 504, 6, 258, 6, 272, 11, 15, 22, 134, 44, 11, 15, 16, 8, 197, 1245, 90, 67, 52, 29, 209, 30, 32, 132, 6, 109, 15, 17, 12]\n",
            "3\n",
            "{0, 1, 2, 3, 4, 5, 6, 7, 8, 9, 10, 11, 12, 13, 14, 15, 16, 17, 18, 19, 20, 21, 22, 23, 24, 25, 26, 27, 28, 29, 30, 31, 32, 33, 34, 35, 36, 37, 38, 39, 40, 41, 42, 43, 44, 45}\n"
          ],
          "name": "stdout"
        }
      ]
    },
    {
      "metadata": {
        "id": "NDhYIUhCAOb5",
        "colab_type": "text"
      },
      "cell_type": "markdown",
      "source": [
        "Load the word index to decode the train data."
      ]
    },
    {
      "metadata": {
        "id": "YmkXgk0WAOb6",
        "colab_type": "code",
        "outputId": "27365a76-5a85-4401-ad97-6d606213d60f",
        "colab": {
          "base_uri": "https://localhost:8080/",
          "height": 108
        }
      },
      "cell_type": "code",
      "source": [
        "word_index = reuters.get_word_index()\n",
        "\n",
        "reverse_index = dict([(value+3, key) for (key, value) in word_index.items()])\n",
        "\n",
        "reverse_index[0] = \"<PAD>\"\n",
        "reverse_index[1] = \"<START>\"\n",
        "reverse_index[2] = \"<UNKNOWN>\"  # unknown\n",
        "reverse_index[3] = \"<UNUSED>\"\n",
        "\n",
        "decoded_review = ' '.join([reverse_index.get(i,'?') for i in reuters_train_data[0]])\n",
        "\n",
        "print(decoded_review)"
      ],
      "execution_count": 0,
      "outputs": [
        {
          "output_type": "stream",
          "text": [
            "Downloading data from https://s3.amazonaws.com/text-datasets/reuters_word_index.json\n",
            "557056/550378 [==============================] - 0s 0us/step\n",
            "<START> <UNKNOWN> <UNKNOWN> said as a result of its december acquisition of space co it expects earnings per share in 1987 of 1 15 to 1 30 dlrs per share up from 70 cts in 1986 the company said pretax net should rise to nine to 10 mln dlrs from six mln dlrs in 1986 and rental operation revenues to 19 to 22 mln dlrs from 12 5 mln dlrs it said cash flow per share this year should be 2 50 to three dlrs reuter 3\n"
          ],
          "name": "stdout"
        }
      ]
    },
    {
      "metadata": {
        "id": "Mtg-JFdfAOb9",
        "colab_type": "text"
      },
      "cell_type": "markdown",
      "source": [
        "#### TO DO: Preprocess the data\n",
        "\n",
        "1. Normalize the input data set\n",
        "2. Perform one hot encoding\n",
        "3. Create a train, test, and validation set"
      ]
    },
    {
      "metadata": {
        "id": "vxLkLL2vN8df",
        "colab_type": "code",
        "outputId": "ce057acd-83a7-4c79-8c54-56aa6ad96800",
        "colab": {
          "base_uri": "https://localhost:8080/",
          "height": 153
        }
      },
      "cell_type": "code",
      "source": [
        "# 1.- Normalize the input data set\n",
        "\n",
        "tokenizer = Tokenizer(num_words=8982)\n",
        "train_data_token = tokenizer.sequences_to_matrix(reuters_train_data, mode='binary')\n",
        "test_data_token = tokenizer.sequences_to_matrix(reuters_test_data, mode='binary')\n",
        "print(train_data_token.shape)\n",
        "print(test_data_token.shape)\n",
        "\n",
        "# 2.- Perform one hot encoding\n",
        "num_classes = 46\n",
        "one_hot_train_labels = to_categorical(reuters_train_labels)\n",
        "one_hot_test_labels = to_categorical(reuters_test_labels)\n",
        "print(one_hot_train_labels.shape)\n",
        "print(one_hot_test_labels.shape)\n",
        "\n",
        "# 3.- Create a train, test, and validation set\n",
        "\n",
        "# Creating a validation set with the first 10000 reviews\n",
        "routers_validation_data = train_data_token[:1000]\n",
        "routers_validation_labels = one_hot_train_labels[:1000]\n",
        "\n",
        "print(routers_validation_data.shape)\n",
        "print(routers_validation_labels.shape)\n",
        "# Creating the input set\n",
        "x_data = train_data_token[1000:]\n",
        "y_data = one_hot_train_labels[1000:]\n",
        "print(x_data.shape)\n",
        "print(y_data.shape)\n",
        "\n",
        "#print(test_data_token.shape)\n",
        "#print(reuters_test_labels.shape)\n"
      ],
      "execution_count": 0,
      "outputs": [
        {
          "output_type": "stream",
          "text": [
            "(8982, 8982)\n",
            "(2246, 8982)\n",
            "(8982, 46)\n",
            "(2246, 46)\n",
            "(1000, 8982)\n",
            "(1000, 46)\n",
            "(7982, 8982)\n",
            "(7982, 46)\n"
          ],
          "name": "stdout"
        }
      ]
    },
    {
      "metadata": {
        "id": "bAJV1R_ccDg4",
        "colab_type": "code",
        "colab": {}
      },
      "cell_type": "code",
      "source": [
        ""
      ],
      "execution_count": 0,
      "outputs": []
    },
    {
      "metadata": {
        "id": "4XJqDdxAAOb_",
        "colab_type": "text"
      },
      "cell_type": "markdown",
      "source": [
        "#### TO DO: Define and train a network, then plot the accuracy of the training, validation, and testing\n",
        "\n",
        "1. Use a validation set\n",
        "2. Propose and train a network\n",
        "3. Print the history of the training\n",
        "4. Evaluate with a test set"
      ]
    },
    {
      "metadata": {
        "id": "W7761gANRiNm",
        "colab_type": "code",
        "outputId": "60ad9bec-052d-4aea-f444-ebbe0d09a071",
        "colab": {
          "base_uri": "https://localhost:8080/",
          "height": 1311
        }
      },
      "cell_type": "code",
      "source": [
        "model = models.Sequential()\n",
        "model.add(layers.Dense(64, activation='relu', input_dim=8982))\n",
        "model.add(layers.Dropout(0.3))\n",
        "model.add(layers.Dense(32, activation='relu'))\n",
        "model.add(layers.Dropout(0.2))\n",
        "model.add(layers.Dense(num_classes, activation='softmax'))\n",
        "model.summary()\n",
        "\n",
        "early_stop = callbacks.EarlyStopping(monitor='val_acc', patience=5)\n",
        "model.compile(optimizer='adam',\n",
        "              loss='categorical_crossentropy', \n",
        "              metrics=['accuracy'])\n",
        "\n",
        "# 3.- Print the history of the training\n",
        "print(x_data.shape)\n",
        "print(y_data.shape)\n",
        "print(routers_validation_data.shape)\n",
        "print(routers_validation_labels.shape)\n",
        "history = model.fit(x_data, y_data,\n",
        "          batch_size=128,\n",
        "          epochs=30,\n",
        "          validation_data = (routers_validation_data,routers_validation_labels),\n",
        "          callbacks=[early_stop],\n",
        "          verbose=2)\n",
        "\n",
        "history_dict = history.history\n",
        "print(history_dict.keys())\n",
        "\n",
        "acc = history_dict['acc']\n",
        "val_acc = history_dict['val_acc']\n",
        "loss = history_dict['loss']\n",
        "val_loss = history_dict['val_loss']\n",
        "\n",
        "epochs = range(1, len(acc) + 1)\n",
        "\n",
        "#Plot of the validation and training loss\n",
        "\n",
        "# \"bo\" is for \"blue dot\"\n",
        "plt.plot(epochs, loss, 'bo', label='Training loss')\n",
        "# b is for \"solid blue line\"\n",
        "plt.plot(epochs, val_loss, 'b', label='Validation loss')\n",
        "plt.title('Training and validation loss')\n",
        "plt.xlabel('Epochs')\n",
        "plt.ylabel('Loss')\n",
        "plt.legend()\n",
        "\n",
        "plt.show()\n",
        "# 4.- Evaluate with a test set\n",
        "results = model.evaluate(test_data_token, one_hot_test_labels)\n",
        "\n",
        "print(results)"
      ],
      "execution_count": 0,
      "outputs": [
        {
          "output_type": "stream",
          "text": [
            "_________________________________________________________________\n",
            "Layer (type)                 Output Shape              Param #   \n",
            "=================================================================\n",
            "dense_5 (Dense)              (None, 64)                574912    \n",
            "_________________________________________________________________\n",
            "dropout_3 (Dropout)          (None, 64)                0         \n",
            "_________________________________________________________________\n",
            "dense_6 (Dense)              (None, 32)                2080      \n",
            "_________________________________________________________________\n",
            "dropout_4 (Dropout)          (None, 32)                0         \n",
            "_________________________________________________________________\n",
            "dense_7 (Dense)              (None, 46)                1518      \n",
            "=================================================================\n",
            "Total params: 578,510\n",
            "Trainable params: 578,510\n",
            "Non-trainable params: 0\n",
            "_________________________________________________________________\n",
            "(7982, 8982)\n",
            "(7982, 46)\n",
            "(1000, 8982)\n",
            "(1000, 46)\n",
            "Train on 7982 samples, validate on 1000 samples\n",
            "Epoch 1/30\n",
            " - 2s - loss: 2.6940 - acc: 0.4052 - val_loss: 1.6091 - val_acc: 0.6320\n",
            "Epoch 2/30\n",
            " - 1s - loss: 1.4824 - acc: 0.6622 - val_loss: 1.2294 - val_acc: 0.7170\n",
            "Epoch 3/30\n",
            " - 1s - loss: 1.1542 - acc: 0.7395 - val_loss: 1.0878 - val_acc: 0.7580\n",
            "Epoch 4/30\n",
            " - 1s - loss: 0.9560 - acc: 0.7737 - val_loss: 1.0073 - val_acc: 0.7790\n",
            "Epoch 5/30\n",
            " - 1s - loss: 0.8019 - acc: 0.8077 - val_loss: 0.9282 - val_acc: 0.8090\n",
            "Epoch 6/30\n",
            " - 1s - loss: 0.6937 - acc: 0.8316 - val_loss: 0.9010 - val_acc: 0.8090\n",
            "Epoch 7/30\n",
            " - 1s - loss: 0.5903 - acc: 0.8563 - val_loss: 0.8868 - val_acc: 0.8170\n",
            "Epoch 8/30\n",
            " - 1s - loss: 0.5122 - acc: 0.8722 - val_loss: 0.8969 - val_acc: 0.8160\n",
            "Epoch 9/30\n",
            " - 1s - loss: 0.4521 - acc: 0.8880 - val_loss: 0.8966 - val_acc: 0.8140\n",
            "Epoch 10/30\n",
            " - 1s - loss: 0.3966 - acc: 0.8971 - val_loss: 0.9206 - val_acc: 0.8210\n",
            "Epoch 11/30\n",
            " - 1s - loss: 0.3655 - acc: 0.9074 - val_loss: 0.9371 - val_acc: 0.8150\n",
            "Epoch 12/30\n",
            " - 1s - loss: 0.3267 - acc: 0.9142 - val_loss: 0.9512 - val_acc: 0.8150\n",
            "Epoch 13/30\n",
            " - 1s - loss: 0.2922 - acc: 0.9236 - val_loss: 0.9793 - val_acc: 0.8190\n",
            "Epoch 14/30\n",
            " - 1s - loss: 0.2785 - acc: 0.9241 - val_loss: 1.0002 - val_acc: 0.8160\n",
            "Epoch 15/30\n",
            " - 1s - loss: 0.2589 - acc: 0.9306 - val_loss: 1.0194 - val_acc: 0.8150\n",
            "dict_keys(['val_loss', 'val_acc', 'loss', 'acc'])\n"
          ],
          "name": "stdout"
        },
        {
          "output_type": "display_data",
          "data": {
            "image/png": "[encoded data removed]",
            "text/plain": [
              "<Figure size 576x396 with 1 Axes>"
            ]
          },
          "metadata": {
            "tags": []
          }
        },
        {
          "output_type": "stream",
          "text": [
            "2246/2246 [==============================] - 0s 90us/step\n",
            "[1.1561745974174698, 0.7907390917716871]\n"
          ],
          "name": "stdout"
        }
      ]
    },
    {
      "metadata": {
        "id": "UWOJZoBEAOcA",
        "colab_type": "text"
      },
      "cell_type": "markdown",
      "source": [
        "## Predicting Student Admissions\n",
        "\n",
        "---\n",
        "\n",
        "Predict student admissions based on three pieces of data:\n",
        "\n",
        "- GRE Scores\n",
        "- GPA Scores\n",
        "- Class rank"
      ]
    },
    {
      "metadata": {
        "id": "SSxwczXcAOcB",
        "colab_type": "text"
      },
      "cell_type": "markdown",
      "source": [
        "### Load and visualize the data"
      ]
    },
    {
      "metadata": {
        "id": "QvlAGkuZAOcC",
        "colab_type": "code",
        "outputId": "ac17cb99-20be-4c90-ddcb-2650cf22eed5",
        "colab": {
          "base_uri": "https://localhost:8080/",
          "height": 1122
        }
      },
      "cell_type": "code",
      "source": [
        "student_data = pd.read_csv(\"./student_data.csv\")\n",
        "print(student_data)\n",
        "print(student_data.shape)"
      ],
      "execution_count": 5,
      "outputs": [
        {
          "output_type": "stream",
          "text": [
            "     admit    gre   gpa  rank\n",
            "0        0  380.0  3.61   3.0\n",
            "1        1  660.0  3.67   3.0\n",
            "2        1  800.0  4.00   1.0\n",
            "3        1  640.0  3.19   4.0\n",
            "4        0  520.0  2.93   4.0\n",
            "5        1  760.0  3.00   2.0\n",
            "6        1  560.0  2.98   1.0\n",
            "7        0  400.0  3.08   2.0\n",
            "8        1  540.0  3.39   3.0\n",
            "9        0  700.0  3.92   2.0\n",
            "10       0  800.0  4.00   4.0\n",
            "11       0  440.0  3.22   1.0\n",
            "12       1  760.0  4.00   1.0\n",
            "13       0  700.0  3.08   2.0\n",
            "14       1  700.0  4.00   1.0\n",
            "15       0  480.0  3.44   3.0\n",
            "16       0  780.0  3.87   4.0\n",
            "17       0  360.0  2.56   3.0\n",
            "18       0  800.0  3.75   2.0\n",
            "19       1  540.0  3.81   1.0\n",
            "20       0  500.0  3.17   3.0\n",
            "21       1  660.0  3.63   2.0\n",
            "22       0  600.0  2.82   4.0\n",
            "23       0  680.0  3.19   4.0\n",
            "24       1  760.0  3.35   2.0\n",
            "25       1  800.0  3.66   1.0\n",
            "26       1  620.0  3.61   1.0\n",
            "27       1  520.0  3.74   4.0\n",
            "28       1  780.0  3.22   2.0\n",
            "29       0  520.0  3.29   1.0\n",
            "..     ...    ...   ...   ...\n",
            "370      1  540.0  3.77   2.0\n",
            "371      1  680.0  3.76   3.0\n",
            "372      1  680.0  2.42   1.0\n",
            "373      1  620.0  3.37   1.0\n",
            "374      0  560.0  3.78   2.0\n",
            "375      0  560.0  3.49   4.0\n",
            "376      0  620.0  3.63   2.0\n",
            "377      1  800.0  4.00   2.0\n",
            "378      0  640.0  3.12   3.0\n",
            "379      0  540.0  2.70   2.0\n",
            "380      0  700.0  3.65   2.0\n",
            "381      1  540.0  3.49   2.0\n",
            "382      0  540.0  3.51   2.0\n",
            "383      0  660.0  4.00   1.0\n",
            "384      1  480.0  2.62   2.0\n",
            "385      0  420.0  3.02   1.0\n",
            "386      1  740.0  3.86   2.0\n",
            "387      0  580.0  3.36   2.0\n",
            "388      0  640.0  3.17   2.0\n",
            "389      0  640.0  3.51   2.0\n",
            "390      1  800.0  3.05   2.0\n",
            "391      1  660.0  3.88   2.0\n",
            "392      1  600.0  3.38   3.0\n",
            "393      1  620.0  3.75   2.0\n",
            "394      1  460.0  3.99   3.0\n",
            "395      0  620.0  4.00   2.0\n",
            "396      0  560.0  3.04   3.0\n",
            "397      0  460.0  2.63   2.0\n",
            "398      0  700.0  3.65   2.0\n",
            "399      0  600.0  3.89   3.0\n",
            "\n",
            "[400 rows x 4 columns]\n",
            "(400, 4)\n"
          ],
          "name": "stdout"
        }
      ]
    },
    {
      "metadata": {
        "id": "1IMD7VP9AOcG",
        "colab_type": "text"
      },
      "cell_type": "markdown",
      "source": [
        "Plot of the GRE and the GPA from the data."
      ]
    },
    {
      "metadata": {
        "id": "YPJjK5irAOcH",
        "colab_type": "code",
        "outputId": "412c0cc2-1141-400b-ce4e-8ec349351371",
        "colab": {
          "base_uri": "https://localhost:8080/",
          "height": 361
        }
      },
      "cell_type": "code",
      "source": [
        "X = np.array(student_data[[\"gre\",\"gpa\"] ])\n",
        "y = np.array(student_data[\"admit\"])\n",
        "admitted = X[np.argwhere(y==1)]\n",
        "rejected = X[np.argwhere(y==0)]\n",
        "plt.scatter([s[0][0] for s in rejected], [s[0][1] for s in rejected], s = 25, color = 'red', edgecolor = 'k')\n",
        "plt.scatter([s[0][0] for s in admitted], [s[0][1] for s in admitted], s = 25, color = 'cyan', edgecolor = 'k')\n",
        "plt.xlabel('Test (GRE)')\n",
        "plt.ylabel('Grades (GPA)')\n",
        "\n",
        "plt.show()"
      ],
      "execution_count": 6,
      "outputs": [
        {
          "output_type": "display_data",
          "data": {
            "image/png": "[encoded data removed]",
            "text/plain": [
              "<Figure size 576x396 with 1 Axes>"
            ]
          },
          "metadata": {
            "tags": []
          }
        }
      ]
    },
    {
      "metadata": {
        "id": "Q02pAcTaAOcL",
        "colab_type": "text"
      },
      "cell_type": "markdown",
      "source": [
        "Plot of the data by class rank."
      ]
    },
    {
      "metadata": {
        "id": "Gq9G8HOVAOcM",
        "colab_type": "code",
        "outputId": "afb70184-c727-45da-e58a-8a78eb5a1b72",
        "colab": {
          "base_uri": "https://localhost:8080/",
          "height": 620
        }
      },
      "cell_type": "code",
      "source": [
        "f, plots = plt.subplots(2, 2, figsize=(20,10))\n",
        "plots = [plot for sublist in plots for plot in sublist]\n",
        "\n",
        "for idx, plot in enumerate(plots):\n",
        "    data_rank = student_data[student_data[\"rank\"]==idx+1]\n",
        "    plot.set_title(\"Rank \" + str(idx+1))\n",
        "    X = np.array(data_rank[[\"gre\",\"gpa\"]])\n",
        "    y = np.array(data_rank[\"admit\"])\n",
        "    admitted = X[np.argwhere(y==1)]\n",
        "    rejected = X[np.argwhere(y==0)]\n",
        "    plot.scatter([s[0][0] for s in rejected], [s[0][1] for s in rejected], s = 25, color = 'red', edgecolor = 'k')\n",
        "    plot.scatter([s[0][0] for s in admitted], [s[0][1] for s in admitted], s = 25, color = 'cyan', edgecolor = 'k')\n",
        "    plot.set_xlabel('Test (GRE)')\n",
        "    plot.set_ylabel('Grades (GPA)')\n",
        "    "
      ],
      "execution_count": 7,
      "outputs": [
        {
          "output_type": "display_data",
          "data": {
            "image/png": "[encoded data removed]",
            "text/plain": [
              "<Figure size 1440x720 with 4 Axes>"
            ]
          },
          "metadata": {
            "tags": []
          }
        }
      ]
    },
    {
      "metadata": {
        "id": "iZ37r1FyAOcP",
        "colab_type": "text"
      },
      "cell_type": "markdown",
      "source": [
        "#### TO DO: Preprocess the data\n",
        "\n",
        "1. Normalize the input data set\n",
        "2. Perform one hot encoding\n",
        "3. Create a train, test, and validation set"
      ]
    },
    {
      "metadata": {
        "id": "AwkIQVawtTlM",
        "colab_type": "code",
        "outputId": "bc79c6c7-fe4a-41a5-cff4-63e2fef61e9f",
        "colab": {
          "base_uri": "https://localhost:8080/",
          "height": 1802
        }
      },
      "cell_type": "code",
      "source": [
        "def stdrize(vector):\n",
        "  mean = np.mean(vector)\n",
        "  sigma = np.std(vector)\n",
        "  for i in range(0, vector.size):\n",
        "    vector[i] = (vector[i] - mean)/sigma\n",
        "     \n",
        "def clean_data(dataset):\n",
        "  index = 0\n",
        "  limit = dataset.shape[0]\n",
        "  while(index < limit):\n",
        "    flag = 0\n",
        "    for j in range(0, dataset.shape[1]):\n",
        "      if math.isnan(dataset[index][j]):\n",
        "        flag = 1\n",
        "    if flag:\n",
        "      dataset = np.delete(dataset, index, axis=0)\n",
        "      index = index - 1\n",
        "      limit = limit - 1\n",
        "    index = index + 1\n",
        "  return dataset\n",
        "\n",
        "#print(student_data)\n",
        "student_data_array = np.array(student_data)\n",
        "print(student_data_array[0])\n",
        "\n",
        "X_gre = student_data_array[:,1]\n",
        "print(X_gre)\n",
        "X_gpa = student_data_array[:,2]\n",
        "print(X_gpa)\n",
        "\n",
        "stdrize(X_gre)\n",
        "stdrize(X_gpa)\n",
        "print(X_gre)\n",
        "print(X_gpa)"
      ],
      "execution_count": 0,
      "outputs": [
        {
          "output_type": "stream",
          "text": [
            "[  0.   380.     3.61   3.  ]\n",
            "[380. 660. 800. 640. 520. 760. 560. 400. 540. 700. 800. 440. 760. 700.\n",
            " 700. 480. 780. 360. 800. 540. 500. 660. 600. 680. 760. 800. 620. 520.\n",
            " 780. 520. 540. 760. 600. 800. 360. 400. 580. 520. 500. 520. 560. 580.\n",
            " 600. 500. 700. 460. 580. 500. 440. 400. 640. 440. 740. 680. 660. 740.\n",
            " 560. 380. 400. 600. 620. 560. 640. 680. 580. 600. 740. 620. 580. 800.\n",
            " 640. 300. 480. 580. 720. 720. 560. 800. 540. 620. 700. 620. 500. 380.\n",
            " 500. 520. 600. 600. 700. 660. 700. 720. 800. 580. 660. 660. 640. 480.\n",
            " 700. 400. 340. 580. 380. 540. 660. 740. 700. 480. 400. 480. 680. 420.\n",
            " 360. 600. 720. 620. 440. 700. 800. 340. 520. 480. 520. 500. 720. 540.\n",
            " 600. 740. 540. 460. 620. 640. 580. 500. 560. 500. 560. 700. 620. 600.\n",
            " 640. 700. 620. 580. 580. 380. 480. 560. 480. 740. 800. 400. 640. 580.\n",
            " 620. 580. 560. 480. 660. 700. 600. 640. 700. 520. 580. 700. 440. 720.\n",
            " 500. 600. 400. 540. 680. 800. 500. 620. 520. 620. 620. 300. 620. 500.\n",
            " 700. 540. 500. 800. 560.  nan 560. 500. 640. 800. 640. 380. 600. 560.\n",
            " 660. 400. 600. 580. 800. 580. 700. 420. 600. 780. 740. 640. 540. 580.\n",
            " 740. 580.  nan 640. 600. 660. 340. 460. 460. 560. 540. 680. 480. 800.\n",
            " 800. 720. 620. 540. 480. 720. 580. 600. 380. 420. 800. 620. 660. 480.\n",
            " 500. 700. 440. 520. 680. 620. 540. 800. 680. 440. 680. 640. 660. 620.\n",
            " 520. 540. 740. 640. 520. 620. 520. 640. 680. 440. 520. 620. 520. 380.\n",
            " 560. 600. 680. 500. 640. 540. 680. 660. 520. 600. 460. 580. 680. 660.\n",
            " 660. 360. 660. 520. 440. 600. 800. 660. 800. 420. 620. 800. 680. 800.\n",
            " 480. 520. 560. 460. 540. 720. 640. 660. 400. 680. 220. 580. 540. 580.\n",
            " 540. 440. 560. 660. 660. 520. 540. 300. 340. 780. 480. 540. 460. 460.\n",
            " 500. 420. 520. 680. 680. 560. 580. 500. 740. 660. 420. 560. 460. 620.\n",
            " 520. 620. 540. 660. 500. 560. 500. 580. 520. 500. 600. 580. 400. 620.\n",
            " 780. 620. 580. 700. 540. 760. 700. 720. 560. 720. 520. 540. 680. 460.\n",
            " 560. 480. 460. 620. 580. 800. 540. 680. 680. 620. 560. 560. 620. 800.\n",
            " 640. 540. 700. 540. 540. 660. 480. 420. 740. 580. 640. 640. 800. 660.\n",
            " 600. 620. 460. 620. 560. 460. 700. 600.]\n",
            "[3.61 3.67 4.   3.19 2.93 3.   2.98 3.08 3.39 3.92 4.   3.22 4.   3.08\n",
            " 4.   3.44 3.87 2.56 3.75 3.81 3.17 3.63 2.82 3.19 3.35 3.66 3.61 3.74\n",
            " 3.22 3.29 3.78 3.35 3.4  4.   3.14 3.05 3.25 2.9  3.13 2.68 2.42 3.32\n",
            " 3.15 3.31 2.94 3.45 3.46 2.97 2.48 3.35 3.86 3.13 3.37 3.27 3.34 4.\n",
            " 3.19 2.94 3.65 2.82 3.18 3.32 3.67 3.85 4.   3.59 3.62 3.3  3.69 3.73\n",
            " 4.   2.92 3.39 4.   3.45 4.   3.36 4.   3.12 4.   2.9  3.07 2.71 2.91\n",
            " 3.6  2.98 3.32 3.48 3.28 4.   3.83 3.64 3.9  2.93 3.44 3.33 3.52 3.57\n",
            " 2.88 3.31 3.15 3.57 3.33 3.94 3.95 2.97 3.56 3.13 2.93 3.45 3.08 3.41\n",
            " 3.   3.22 3.84 3.99 3.45 3.72 3.7  2.92 3.74 2.67 2.85 2.98 3.88 3.38\n",
            " 3.54 3.74 3.19 3.15 3.17 2.79 3.4  3.08 2.95 3.57 3.33 4.   3.4  3.58\n",
            " 3.93 3.52 3.94 3.4  3.4  3.43 3.4  2.71 2.91 3.31 3.74 3.38 3.94 3.46\n",
            " 3.69 2.86 2.52 3.58 3.49 3.82 3.13 3.5  3.56 2.73 3.3  4.   3.24 3.77\n",
            " 4.   3.62 3.51 2.81 3.48 3.43 3.53 3.37 2.62 3.23 3.33 3.01 3.78 3.88\n",
            " 4.   3.84 2.79 3.6  3.61  nan 3.07 3.35 2.94 3.54 3.76 3.59 3.47 3.59\n",
            " 3.07 3.23 3.63 3.77 3.31 3.2  4.   3.92 3.89 3.8  3.54 3.63 3.16 3.5\n",
            " 3.34 3.02 2.87 3.38 3.56 2.91 2.9  3.64 2.98 3.59 3.28 3.99 3.02 3.47\n",
            " 2.9  3.5  3.58 3.02 3.43 3.42 3.29 3.28 3.38 2.67 3.53 3.05  nan 4.\n",
            " 2.86 3.45 2.76 3.81 2.96 3.22 3.04 3.91 3.34 3.17 3.64 3.73 3.31 3.21\n",
            " 4.   3.55 3.52 3.35 3.3  3.95 3.51 3.81 3.11 3.15 3.19 3.95 3.9  3.34\n",
            " 3.24 3.64 3.46 2.81 3.95 3.33 3.67 3.32 3.12 2.98 3.77 3.58 3.   3.14\n",
            " 3.94 3.27 3.45 3.1  3.39 3.31 3.22 3.7  3.15 2.26 3.45 2.78 3.7  3.97\n",
            " 2.55 3.25 3.16 3.07 3.5  3.4  3.3  3.6  3.15 3.98 2.83 3.46 3.17 3.51\n",
            " 3.13 2.98 4.   3.67 3.77 3.65 3.46 2.84 3.   3.63 3.71 3.28 3.14 3.58\n",
            " 3.01 2.69 2.7  3.9  3.31 3.48 3.34 2.93 4.   3.59 2.96 3.43 3.64 3.71\n",
            " 3.15 3.09 3.2  3.47 3.23 2.65 3.95 3.06 3.35 3.03 3.35 3.8  3.36 2.85\n",
            " 4.   3.43 3.12 3.52 3.78 2.81 3.27 3.31 3.69 3.94 4.   3.49 3.14 3.44\n",
            " 3.36 2.78 2.93 3.63 4.   3.89 3.77 3.76 2.42 3.37 3.78 3.49 3.63 4.\n",
            " 3.12 2.7  3.65 3.49 3.51 4.   2.62 3.02 3.86 3.36 3.17 3.51 3.05 3.88\n",
            " 3.38 3.75 3.99 4.   3.04 2.63 3.65 3.89]\n",
            "[nan nan nan nan nan nan nan nan nan nan nan nan nan nan nan nan nan nan\n",
            " nan nan nan nan nan nan nan nan nan nan nan nan nan nan nan nan nan nan\n",
            " nan nan nan nan nan nan nan nan nan nan nan nan nan nan nan nan nan nan\n",
            " nan nan nan nan nan nan nan nan nan nan nan nan nan nan nan nan nan nan\n",
            " nan nan nan nan nan nan nan nan nan nan nan nan nan nan nan nan nan nan\n",
            " nan nan nan nan nan nan nan nan nan nan nan nan nan nan nan nan nan nan\n",
            " nan nan nan nan nan nan nan nan nan nan nan nan nan nan nan nan nan nan\n",
            " nan nan nan nan nan nan nan nan nan nan nan nan nan nan nan nan nan nan\n",
            " nan nan nan nan nan nan nan nan nan nan nan nan nan nan nan nan nan nan\n",
            " nan nan nan nan nan nan nan nan nan nan nan nan nan nan nan nan nan nan\n",
            " nan nan nan nan nan nan nan nan nan nan nan nan nan nan nan nan nan nan\n",
            " nan nan nan nan nan nan nan nan nan nan nan nan nan nan nan nan nan nan\n",
            " nan nan nan nan nan nan nan nan nan nan nan nan nan nan nan nan nan nan\n",
            " nan nan nan nan nan nan nan nan nan nan nan nan nan nan nan nan nan nan\n",
            " nan nan nan nan nan nan nan nan nan nan nan nan nan nan nan nan nan nan\n",
            " nan nan nan nan nan nan nan nan nan nan nan nan nan nan nan nan nan nan\n",
            " nan nan nan nan nan nan nan nan nan nan nan nan nan nan nan nan nan nan\n",
            " nan nan nan nan nan nan nan nan nan nan nan nan nan nan nan nan nan nan\n",
            " nan nan nan nan nan nan nan nan nan nan nan nan nan nan nan nan nan nan\n",
            " nan nan nan nan nan nan nan nan nan nan nan nan nan nan nan nan nan nan\n",
            " nan nan nan nan nan nan nan nan nan nan nan nan nan nan nan nan nan nan\n",
            " nan nan nan nan nan nan nan nan nan nan nan nan nan nan nan nan nan nan\n",
            " nan nan nan nan]\n",
            "[nan nan nan nan nan nan nan nan nan nan nan nan nan nan nan nan nan nan\n",
            " nan nan nan nan nan nan nan nan nan nan nan nan nan nan nan nan nan nan\n",
            " nan nan nan nan nan nan nan nan nan nan nan nan nan nan nan nan nan nan\n",
            " nan nan nan nan nan nan nan nan nan nan nan nan nan nan nan nan nan nan\n",
            " nan nan nan nan nan nan nan nan nan nan nan nan nan nan nan nan nan nan\n",
            " nan nan nan nan nan nan nan nan nan nan nan nan nan nan nan nan nan nan\n",
            " nan nan nan nan nan nan nan nan nan nan nan nan nan nan nan nan nan nan\n",
            " nan nan nan nan nan nan nan nan nan nan nan nan nan nan nan nan nan nan\n",
            " nan nan nan nan nan nan nan nan nan nan nan nan nan nan nan nan nan nan\n",
            " nan nan nan nan nan nan nan nan nan nan nan nan nan nan nan nan nan nan\n",
            " nan nan nan nan nan nan nan nan nan nan nan nan nan nan nan nan nan nan\n",
            " nan nan nan nan nan nan nan nan nan nan nan nan nan nan nan nan nan nan\n",
            " nan nan nan nan nan nan nan nan nan nan nan nan nan nan nan nan nan nan\n",
            " nan nan nan nan nan nan nan nan nan nan nan nan nan nan nan nan nan nan\n",
            " nan nan nan nan nan nan nan nan nan nan nan nan nan nan nan nan nan nan\n",
            " nan nan nan nan nan nan nan nan nan nan nan nan nan nan nan nan nan nan\n",
            " nan nan nan nan nan nan nan nan nan nan nan nan nan nan nan nan nan nan\n",
            " nan nan nan nan nan nan nan nan nan nan nan nan nan nan nan nan nan nan\n",
            " nan nan nan nan nan nan nan nan nan nan nan nan nan nan nan nan nan nan\n",
            " nan nan nan nan nan nan nan nan nan nan nan nan nan nan nan nan nan nan\n",
            " nan nan nan nan nan nan nan nan nan nan nan nan nan nan nan nan nan nan\n",
            " nan nan nan nan nan nan nan nan nan nan nan nan nan nan nan nan nan nan\n",
            " nan nan nan nan]\n"
          ],
          "name": "stdout"
        }
      ]
    },
    {
      "metadata": {
        "id": "mPB3I7ptAOcS",
        "colab_type": "text"
      },
      "cell_type": "markdown",
      "source": [
        "#### TO DO: Define and train a network, then plot the accuracy of the training, validation, and testing\n",
        "\n",
        "1. Use a validation set\n",
        "2. Propose and train a network\n",
        "3. Print the history of the training\n",
        "4. Evaluate with a test set"
      ]
    }
  ]
}